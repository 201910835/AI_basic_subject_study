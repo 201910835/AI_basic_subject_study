{
 "cells": [
  {
   "cell_type": "markdown",
   "id": "freelance-philippines",
   "metadata": {},
   "source": [
    "# 3. 파이토치 기초"
   ]
  },
  {
   "cell_type": "code",
   "execution_count": 2,
   "id": "mighty-visitor",
   "metadata": {},
   "outputs": [],
   "source": [
    "import torch"
   ]
  },
  {
   "cell_type": "code",
   "execution_count": 3,
   "id": "freelance-cleanup",
   "metadata": {},
   "outputs": [],
   "source": [
    "def print_val(x):\n",
    "    print \"Type:\", type(x)\n",
    "    print \"Shape:\", x.shape\n",
    "    print \"값:\\n\", x\n",
    "    print \" \""
   ]
  },
  {
   "cell_type": "code",
   "execution_count": 4,
   "id": "spread-dialogue",
   "metadata": {},
   "outputs": [
    {
     "name": "stdout",
     "output_type": "stream",
     "text": [
      "Type: <class 'torch.Tensor'>\n",
      "Shape: torch.Size([2, 3, 2])\n",
      "값:\n",
      "tensor([[[0.0747, 0.9868],\n",
      "         [0.2518, 0.6072],\n",
      "         [0.6270, 0.6666]],\n",
      "\n",
      "        [[0.0628, 0.3619],\n",
      "         [0.9277, 0.3480],\n",
      "         [0.6708, 0.4776]]])\n",
      " \n",
      "Type: <class 'torch.Tensor'>\n",
      "Shape: torch.Size([2, 3])\n",
      "값:\n",
      "tensor([[ 0.1268,  0.9783, -0.1215],\n",
      "        [ 0.6488,  0.9169,  1.1395]])\n",
      " \n"
     ]
    }
   ],
   "source": [
    "x = torch.rand(2,3,2) # uniform: 0~1 사이 모든 값들이 나올 확률이 같음\n",
    "print_val(x)\n",
    "\n",
    "x = torch.randn(2,3) # Gaussian: 0을 평균으로 하는 가우시안 분포를 따르는 랜덤값\n",
    "print_val(x)"
   ]
  },
  {
   "cell_type": "code",
   "execution_count": 5,
   "id": "continued-anime",
   "metadata": {},
   "outputs": [
    {
     "name": "stdout",
     "output_type": "stream",
     "text": [
      "Type: <class 'torch.Tensor'>\n",
      "Shape: torch.Size([4])\n",
      "값:\n",
      "tensor([2, 3, 1, 0])\n",
      " \n"
     ]
    }
   ],
   "source": [
    "x = torch.randperm(4) # 0~ n-1 까지 값을 원소로 갖는 배열 -> 랜덤 배열\n",
    "print_val(x)"
   ]
  },
  {
   "cell_type": "code",
   "execution_count": 6,
   "id": "super-demand",
   "metadata": {},
   "outputs": [
    {
     "name": "stdout",
     "output_type": "stream",
     "text": [
      "Type: <class 'torch.Tensor'>\n",
      "Shape: torch.Size([6])\n",
      "값:\n",
      "tensor([0.0000, 0.5000, 1.0000, 1.5000, 2.0000, 2.5000])\n",
      " \n"
     ]
    }
   ],
   "source": [
    "# [start, end) 구간을 step 단위로 나눠서 배열로 생성\n",
    "x = torch.arange(0, 3, step=0.5)\n",
    "print_val(x)"
   ]
  },
  {
   "cell_type": "code",
   "execution_count": 7,
   "id": "younger-karen",
   "metadata": {},
   "outputs": [
    {
     "name": "stdout",
     "output_type": "stream",
     "text": [
      "Type: <class 'torch.Tensor'>\n",
      "Shape: torch.Size([3, 4])\n",
      "값:\n",
      "tensor([[1., 1., 1., 1.],\n",
      "        [1., 1., 1., 1.],\n",
      "        [1., 1., 1., 1.]])\n",
      " \n",
      "Type: <class 'torch.Tensor'>\n",
      "Shape: torch.Size([3, 4])\n",
      "값:\n",
      "tensor([[0., 0., 0., 0.],\n",
      "        [0., 0., 0., 0.],\n",
      "        [0., 0., 0., 0.]])\n",
      " \n"
     ]
    }
   ],
   "source": [
    "print_val(torch.ones(3,4))\n",
    "print_val(torch.zeros(3,4))"
   ]
  },
  {
   "cell_type": "code",
   "execution_count": 8,
   "id": "prescribed-session",
   "metadata": {},
   "outputs": [
    {
     "name": "stdout",
     "output_type": "stream",
     "text": [
      "Type: <class 'torch.Tensor'>\n",
      "Shape: torch.Size([2, 4])\n",
      "값:\n",
      "tensor([[-6.9467e-21,  4.5839e-41, -6.9467e-21,  4.5839e-41],\n",
      "        [-4.0106e-01,  3.0946e-41, -5.0838e-21,  4.5839e-41]])\n",
      " \n"
     ]
    }
   ],
   "source": [
    "print_val(torch.Tensor(2,4))"
   ]
  },
  {
   "cell_type": "code",
   "execution_count": 9,
   "id": "opposite-challenge",
   "metadata": {},
   "outputs": [
    {
     "name": "stdout",
     "output_type": "stream",
     "text": [
      "Type: <class 'torch.Tensor'>\n",
      "Shape: torch.Size([2])\n",
      "값:\n",
      "tensor([2., 3.])\n",
      " \n",
      "Type: <class 'torch.Tensor'>\n",
      "Shape: torch.Size([2, 2])\n",
      "값:\n",
      "tensor([[2., 3.],\n",
      "        [3., 4.]])\n",
      " \n"
     ]
    }
   ],
   "source": [
    "print_val(torch.Tensor([2,3]))\n",
    "\n",
    "print_val(torch.Tensor([[2,3], [3,4]]))"
   ]
  },
  {
   "cell_type": "code",
   "execution_count": 10,
   "id": "directed-infrastructure",
   "metadata": {},
   "outputs": [
    {
     "name": "stdout",
     "output_type": "stream",
     "text": [
      "Type: <class 'torch.Tensor'>\n",
      "Shape: torch.Size([2, 3])\n",
      "값:\n",
      "tensor([[-5.1663e-21,  4.5839e-41, -5.1663e-21],\n",
      "        [ 4.5839e-41, -5.1663e-21,  4.5839e-41]])\n",
      " \n",
      "Type: <class 'torch.Tensor'>\n",
      "Shape: torch.Size([2, 3])\n",
      "값:\n",
      "tensor([[0, 0, 0],\n",
      "        [0, 0, 0]], dtype=torch.int32)\n",
      " \n"
     ]
    }
   ],
   "source": [
    "# 텐서 타입 변환\n",
    "x = torch.FloatTensor(2,3)\n",
    "print_val(x)\n",
    "\n",
    "x = x.type_as(torch.IntTensor())\n",
    "print_val(x)"
   ]
  },
  {
   "cell_type": "code",
   "execution_count": 11,
   "id": "disciplinary-strength",
   "metadata": {},
   "outputs": [
    {
     "data": {
      "text/plain": [
       "torch.Size([3, 4, 5])"
      ]
     },
     "execution_count": 11,
     "metadata": {},
     "output_type": "execute_result"
    }
   ],
   "source": [
    "# 텐서 크기 반환\n",
    "torch.FloatTensor(3,4,5).size()"
   ]
  },
  {
   "cell_type": "code",
   "execution_count": 12,
   "id": "confident-copper",
   "metadata": {},
   "outputs": [
    {
     "name": "stdout",
     "output_type": "stream",
     "text": [
      "Type: <class 'torch.Tensor'>\n",
      "Shape: torch.Size([2, 3])\n",
      "값:\n",
      "tensor([[0, 0, 0],\n",
      "        [0, 0, 0]], dtype=torch.int32)\n",
      " \n",
      "Type: <class 'torch.Tensor'>\n",
      "Shape: torch.Size([2, 3])\n",
      "값:\n",
      "tensor([[140499621197928, 140499621197928, 140497497087936],\n",
      "        [    25769803782,     25769803782,     25769803782]])\n",
      " \n"
     ]
    }
   ],
   "source": [
    "# numpy array -> torch tensor\n",
    "import numpy as np\n",
    "np_x = np.ndarray((2,3), dtype=int)\n",
    "print_val(x)\n",
    "\n",
    "x = torch.from_numpy(np_x)\n",
    "print_val(x)"
   ]
  }
 ],
 "metadata": {
  "kernelspec": {
   "display_name": "conda_pytorch_p27",
   "language": "python",
   "name": "conda_pytorch_p27"
  },
  "language_info": {
   "codemirror_mode": {
    "name": "ipython",
    "version": 2
   },
   "file_extension": ".py",
   "mimetype": "text/x-python",
   "name": "python",
   "nbconvert_exporter": "python",
   "pygments_lexer": "ipython2",
   "version": "2.7.16"
  }
 },
 "nbformat": 4,
 "nbformat_minor": 5
}
